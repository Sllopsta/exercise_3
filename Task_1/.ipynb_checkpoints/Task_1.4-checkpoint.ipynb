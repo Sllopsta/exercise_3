{
 "cells": [
  {
   "cell_type": "code",
   "execution_count": 48,
   "metadata": {},
   "outputs": [
    {
     "name": "stdout",
     "output_type": "stream",
     "text": [
      "0.004 1.6e-05\n",
      "0.5\n"
     ]
    }
   ],
   "source": [
    "import numpy as np\n",
    "from matplotlib import pyplot as plt\n",
    "\n",
    "L=1\n",
    "Nx=251\n",
    "D=10**(-6)\n",
    "dt=16*D\n",
    "t_final=50000*D\n",
    "x_ax=np.linspace(0,L+L/(Nx-1),Nx+1)\n",
    "dx=x_ax[1]-x_ax[0]\n",
    "t_ax=np.arange(0,t_final+dt,dt)\n",
    "print(dx,dt)\n",
    "\n",
    "bcdl=1\n",
    "bcdr=0\n",
    "C0=0\n",
    "grid=np.zeros((len(t_ax),len(x_ax)))\n",
    "grid[:,0]=bcdl\n",
    "s=dt/(dx**2)\n",
    "s=s/2\n",
    "print(s)"
   ]
  },
  {
   "cell_type": "code",
   "execution_count": 49,
   "metadata": {},
   "outputs": [],
   "source": [
    "def TDMAsolver(a, b, c, d):\n",
    "    '''\n",
    "    TDMA solver, a b c d can be NumPy array type or Python list type.\n",
    "    refer to http://en.wikipedia.org/wiki/Tridiagonal_matrix_algorithm\n",
    "    and to http://www.cfd-online.com/Wiki/Tridiagonal_matrix_algorithm_-_TDMA_(Thomas_algorithm)\n",
    "    '''\n",
    "    nf = len(d) # number of equations\n",
    "    ac, bc, cc, dc = map(np.array, (a, b, c, d)) # copy arrays\n",
    "    for it in range(1, nf):\n",
    "        mc = ac[it-1]/bc[it-1]\n",
    "        bc[it] = bc[it] - mc*cc[it-1] \n",
    "        dc[it] = dc[it] - mc*dc[it-1]\n",
    "        \t    \n",
    "    xc = bc\n",
    "    xc[-1] = dc[-1]/bc[-1]\n",
    "\n",
    "    for il in range(nf-2, -1, -1):\n",
    "        xc[il] = (dc[il]-cc[il]*xc[il+1])/bc[il]\n",
    "\n",
    "    return xc"
   ]
  },
  {
   "cell_type": "code",
   "execution_count": 50,
   "metadata": {},
   "outputs": [],
   "source": [
    "def analytic(x, t):\n",
    "    result = 1\n",
    "    for n in range(1001):\n",
    "        result -= 2*(-1)**n/((n+0.5)*np.pi)*np.cos((n+0.5)*np.pi*(1-x))*np.exp(-(n+1/2)**2*np.pi*np.pi*t)\n",
    "    return result"
   ]
  },
  {
   "cell_type": "code",
   "execution_count": null,
   "metadata": {},
   "outputs": [],
   "source": [
    "a=np.full(Nx-1,-s)\n",
    "a[-1]+=-s\n",
    "b=np.full(Nx,(1+2*s))\n",
    "b[0]=1\n",
    "c=np.full(Nx-1,-s)\n",
    "c[0]=0\n",
    "d=np.zeros(Nx)\n",
    "dn=np.zeros(Nx)\n",
    "dn[0]=1\n",
    "d[0]=1\n",
    "errors=[0]\n",
    "\n",
    "for t in range(len(t_ax)-1):\n",
    "    d=TDMAsolver(a,b,c,d)\n",
    "    #d=TDMAsolver(aa,bb,cc,d)\n",
    "    if t>1:\n",
    "        for i in range(1,len(d)-1):\n",
    "            dn[i]=s*d[i-1]+(1-2*s)*d[i]+s*d[i+1]\n",
    "            dn[-1]=2*s*d[-2]+(1-2*s)*d[-1]\n",
    "    d=dn\n",
    "    \n",
    "    d[0]=1\n",
    "    errors.append(np.sum(np.abs(d[0:Nx-1]-analytic(x_ax[0:Nx-1],t*dt)))/(Nx-1))\n",
    "    if(t%1000==0 and t>1):\n",
    "        plt.plot(x_ax[0:Nx],d)\n",
    "        #plt.plot(x_ax[0:Nx-1],(d[0:Nx-1]-analytic(x_ax[0:Nx-1],t*dt))/d[0:Nx-1])"
   ]
  },
  {
   "cell_type": "code",
   "execution_count": null,
   "metadata": {},
   "outputs": [],
   "source": [
    "plt.plot(d[0:Nx-1],x_ax[0:Nx-1])\n",
    "plt.xlabel('concentration')\n",
    "plt.ylabel('distance from source')\n",
    "plt.xlim(0,1)\n",
    "plt.title('Δx={}; Δt={}; s={}'.format(dx,dt,s))\n",
    "plt.savefig('Task_1.4 concentration_distance s={}.png'.format(s*2))"
   ]
  },
  {
   "cell_type": "code",
   "execution_count": null,
   "metadata": {},
   "outputs": [],
   "source": [
    "plt.plot(np.abs(d[0:Nx-1]-analytic(x_ax[0:Nx-1],t_ax[-1])),x_ax[0:Nx-1])\n",
    "plt.xlabel('absolute error')\n",
    "plt.ylabel('distance from source')\n",
    "plt.savefig('Task_1.4 abs error s={}.png'.format(s*2))"
   ]
  },
  {
   "cell_type": "code",
   "execution_count": null,
   "metadata": {
    "scrolled": true
   },
   "outputs": [],
   "source": [
    "plt.plot(t_ax,errors)\n",
    "plt.xlabel('time(adim)')\n",
    "plt.ylabel('error%')\n",
    "plt.xlim(-0.0001,0.01)\n",
    "plt.savefig('Task_1.4 %error s={}.png'.format(s*2))"
   ]
  },
  {
   "cell_type": "code",
   "execution_count": null,
   "metadata": {},
   "outputs": [],
   "source": []
  }
 ],
 "metadata": {
  "kernelspec": {
   "display_name": "Python 3",
   "language": "python",
   "name": "python3"
  },
  "language_info": {
   "codemirror_mode": {
    "name": "ipython",
    "version": 3
   },
   "file_extension": ".py",
   "mimetype": "text/x-python",
   "name": "python",
   "nbconvert_exporter": "python",
   "pygments_lexer": "ipython3",
   "version": "3.7.0"
  }
 },
 "nbformat": 4,
 "nbformat_minor": 4
}
