{
 "cells": [
  {
   "cell_type": "code",
   "execution_count": 1,
   "metadata": {
    "scrolled": true
   },
   "outputs": [],
   "source": [
    "import numpy as np\n",
    "from matplotlib import pyplot as plt"
   ]
  },
  {
   "cell_type": "code",
   "execution_count": 2,
   "metadata": {},
   "outputs": [
    {
     "name": "stdout",
     "output_type": "stream",
     "text": [
      "0.01 4.9999999999999996e-05\n",
      "0.49999999999999994\n"
     ]
    }
   ],
   "source": [
    "L=1\n",
    "Nx=101\n",
    "D=10**(-6)\n",
    "dt=50*D\n",
    "t_final=5000000*D\n",
    "x_ax=np.linspace(0,L+L/(Nx-1),Nx+1)\n",
    "dx=x_ax[1]-x_ax[0]\n",
    "t_ax=np.arange(0,t_final+dt,dt)\n",
    "\n",
    "bcdl=1\n",
    "bcdr=0\n",
    "C0=0\n",
    "grid=np.zeros((len(t_ax),len(x_ax)))\n",
    "grid[:,0]=bcdl\n",
    "s=dt/(dx**2)\n",
    "print(s)"
   ]
  },
  {
   "cell_type": "code",
   "execution_count": null,
   "metadata": {},
   "outputs": [],
   "source": [
    "for t in range(len(t_ax)-1):\n",
    "    for x in range(1,len(x_ax)-1):\n",
    "        grid[t+1,x]=grid[t,x]+s*(grid[t,x-1]-2*grid[t,x]+grid[t,x+1])\n",
    "        grid[t+1,-1]=grid[t+1,-3]\n",
    "    if(t%1000==0 and t<5000):\n",
    "        plt.plot(x_ax[0:Nx-1],grid[t,0:Nx-1])"
   ]
  },
  {
   "cell_type": "code",
   "execution_count": null,
   "metadata": {},
   "outputs": [],
   "source": [
    "def analytic(x, t):\n",
    "    result = 1\n",
    "    for n in range(1001):\n",
    "        result -= 2*(-1)**n/((n+0.5)*np.pi)*np.cos((n+0.5)*np.pi*(1-x))*np.exp(-(n+1/2)**2*np.pi*np.pi*t)\n",
    "    return result"
   ]
  },
  {
   "cell_type": "code",
   "execution_count": null,
   "metadata": {},
   "outputs": [],
   "source": [
    "for t in range(len(t_ax)-1):\n",
    "    if(t%1000==0 and t>10000):\n",
    "        plt.plot(x_ax[0:Nx-1],grid[t,0:Nx-1]-analytic(x_ax[0:Nx-1],t*dt))"
   ]
  },
  {
   "cell_type": "code",
   "execution_count": null,
   "metadata": {},
   "outputs": [],
   "source": [
    "def TDMAsolver(a, b, c, d):\n",
    "    '''\n",
    "    TDMA solver, a b c d can be NumPy array type or Python list type.\n",
    "    refer to http://en.wikipedia.org/wiki/Tridiagonal_matrix_algorithm\n",
    "    and to http://www.cfd-online.com/Wiki/Tridiagonal_matrix_algorithm_-_TDMA_(Thomas_algorithm)\n",
    "    '''\n",
    "    nf = len(d) # number of equations\n",
    "    ac, bc, cc, dc = map(np.array, (a, b, c, d)) # copy arrays\n",
    "    for it in range(1, nf):\n",
    "        mc = ac[it-1]/bc[it-1]\n",
    "        bc[it] = bc[it] - mc*cc[it-1] \n",
    "        dc[it] = dc[it] - mc*dc[it-1]\n",
    "        \t    \n",
    "    xc = bc\n",
    "    #xc[0]=1\n",
    "    xc[-1] = dc[-1]/bc[-1]\n",
    "\n",
    "    for il in range(nf-2, -1, -1):\n",
    "        xc[il] = (dc[il]-cc[il]*xc[il+1])/bc[il]\n",
    "\n",
    "    return xc"
   ]
  },
  {
   "cell_type": "code",
   "execution_count": null,
   "metadata": {
    "scrolled": false
   },
   "outputs": [],
   "source": [
    "a=np.full(Nx-1,-s)\n",
    "a[-1]+=-s\n",
    "b=np.full(Nx,(1+2*s))\n",
    "b[0]=1\n",
    "c=np.full(Nx-1,-s)\n",
    "c[0]=0\n",
    "d=grid[0,0:-1]\n",
    "for t in range(len(t_ax)-1):\n",
    "    d=TDMAsolver(a,b,c,d)\n",
    "    d[0]=1\n",
    "    if(t%1000==0 and t>100000):\n",
    "        #plt.plot(x_ax[0:Nx],d)\n",
    "        plt.plot(x_ax[0:Nx-1],d[0:Nx-1]-analytic(x_ax[0:Nx-1],t*dt))\n",
    "    "
   ]
  },
  {
   "cell_type": "code",
   "execution_count": null,
   "metadata": {},
   "outputs": [],
   "source": [
    "a=np.full(Nx-1,-s)\n",
    "a[-1]+=-s\n",
    "b=np.full(Nx,(1+2*s))\n",
    "b[0]=1\n",
    "c=np.full(Nx-1,-s)\n",
    "c[0]=0\n",
    "d=grid[0,0:-1]\n",
    "for i in range(1,len(d)-2):\n",
    "    d[i]=s*d[i-1]+(1-2*s)*d[i]+s*d[i+1]\n",
    "d[-1]=2*s*d[-2]+(1-2*s)*d[-1]\n",
    "for t in range(len(t_ax)-1):\n",
    "    \n",
    "    d=TDMAsolver(a,b,c,d)\n",
    "    d[0]=1\n",
    "    if(t%1000==0 and t>10000):\n",
    "        #plt.plot(x_ax[0:Nx],d)\n",
    "        plt.plot(x_ax[0:Nx-1],d[0:Nx-1]-analytic(x_ax[0:Nx-1],t*dt))"
   ]
  },
  {
   "cell_type": "code",
   "execution_count": null,
   "metadata": {},
   "outputs": [],
   "source": [
    "print(len(t_ax))"
   ]
  },
  {
   "cell_type": "code",
   "execution_count": null,
   "metadata": {},
   "outputs": [],
   "source": []
  }
 ],
 "metadata": {
  "kernelspec": {
   "display_name": "Python 3",
   "language": "python",
   "name": "python3"
  },
  "language_info": {
   "codemirror_mode": {
    "name": "ipython",
    "version": 3
   },
   "file_extension": ".py",
   "mimetype": "text/x-python",
   "name": "python",
   "nbconvert_exporter": "python",
   "pygments_lexer": "ipython3",
   "version": "3.8.5"
  }
 },
 "nbformat": 4,
 "nbformat_minor": 4
}
