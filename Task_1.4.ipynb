{
 "cells": [
  {
   "cell_type": "code",
   "execution_count": 53,
   "metadata": {},
   "outputs": [
    {
     "name": "stdout",
     "output_type": "stream",
     "text": [
      "0.00980392156862745 9.999999999999999e-05\n",
      "0.5201999999999999\n"
     ]
    }
   ],
   "source": [
    "import numpy as np\n",
    "from matplotlib import pyplot as plt\n",
    "\n",
    "L=1\n",
    "Nx=103\n",
    "D=10**(-6)\n",
    "dt=100*D\n",
    "t_final=500000*D\n",
    "x_ax=np.linspace(0,L+L/(Nx-1),Nx+1)\n",
    "dx=x_ax[1]-x_ax[0]\n",
    "t_ax=np.arange(0,t_final+dt,dt)\n",
    "print(dx,dt)\n",
    "\n",
    "bcdl=1\n",
    "bcdr=0\n",
    "C0=0\n",
    "grid=np.zeros((len(t_ax),len(x_ax)))\n",
    "grid[:,0]=bcdl\n",
    "s=dt/(dx**2)\n",
    "s=s/2\n",
    "print(s)"
   ]
  },
  {
   "cell_type": "code",
   "execution_count": 54,
   "metadata": {},
   "outputs": [],
   "source": [
    "def TDMAsolver(a, b, c, d):\n",
    "    '''\n",
    "    TDMA solver, a b c d can be NumPy array type or Python list type.\n",
    "    refer to http://en.wikipedia.org/wiki/Tridiagonal_matrix_algorithm\n",
    "    and to http://www.cfd-online.com/Wiki/Tridiagonal_matrix_algorithm_-_TDMA_(Thomas_algorithm)\n",
    "    '''\n",
    "    nf = len(d) # number of equations\n",
    "    ac, bc, cc, dc = map(np.array, (a, b, c, d)) # copy arrays\n",
    "    for it in range(1, nf):\n",
    "        mc = ac[it-1]/bc[it-1]\n",
    "        bc[it] = bc[it] - mc*cc[it-1] \n",
    "        dc[it] = dc[it] - mc*dc[it-1]\n",
    "        \t    \n",
    "    xc = bc\n",
    "    #xc[0]=1\n",
    "    xc[-1] = dc[-1]/bc[-1]\n",
    "\n",
    "    for il in range(nf-2, -1, -1):\n",
    "        xc[il] = (dc[il]-cc[il]*xc[il+1])/bc[il]\n",
    "\n",
    "    return xc"
   ]
  },
  {
   "cell_type": "code",
   "execution_count": 55,
   "metadata": {},
   "outputs": [],
   "source": [
    "def analytic(x, t):\n",
    "    result = 1\n",
    "    for n in range(1001):\n",
    "        result -= 2*(-1)**n/((n+0.5)*np.pi)*np.cos((n+0.5)*np.pi*(1-x))*np.exp(-(n+1/2)**2*np.pi*np.pi*t)\n",
    "    return result"
   ]
  },
  {
   "cell_type": "code",
   "execution_count": 68,
   "metadata": {},
   "outputs": [
    {
     "name": "stdout",
     "output_type": "stream",
     "text": [
      "[1.00000000e+00 6.24662976e-01 3.42446939e-01 1.40799812e-01\n",
      " 5.14586442e-02 1.76313627e-02 5.79942123e-03 1.85459451e-03\n",
      " 5.80976339e-04 1.79154819e-04 5.45636624e-05 1.64518115e-05\n",
      " 4.91948697e-06 1.46082922e-06 4.31222744e-07 1.26643356e-07\n",
      " 3.70278641e-08 1.07838820e-08 3.12979749e-09 9.05555060e-10\n",
      " 2.61281574e-10 7.51996138e-11 2.15941704e-11 6.18812683e-12\n",
      " 1.76994650e-12 5.05366482e-13 1.44064608e-13 4.10076842e-14\n",
      " 1.16567381e-14 3.30928776e-15 9.38372598e-16 2.65786724e-16\n",
      " 7.52036805e-17 2.12579110e-17 6.00348030e-18 1.69398572e-18\n",
      " 4.77597152e-19 1.34548382e-19 3.78772010e-20 1.06555634e-20\n",
      " 2.99563798e-21 8.41648438e-22 2.36327185e-22 6.63208945e-23\n",
      " 1.86016781e-23 5.21470192e-24 1.46114169e-24 4.09213439e-25\n",
      " 1.14554141e-25 3.20540688e-26 8.96550209e-27 2.50664202e-27\n",
      " 7.00556248e-28 1.95719034e-28 5.46598558e-29 1.52600142e-29\n",
      " 4.25890354e-30 1.18823451e-30 3.31415507e-31 9.24090213e-32\n",
      " 2.57591268e-32 7.17839330e-33 1.99989241e-33 5.57022860e-34\n",
      " 1.55106490e-34 4.31798253e-35 1.20179111e-35 3.34408557e-36\n",
      " 9.30312849e-37 2.58753793e-37 7.19537117e-38 2.00046537e-38\n",
      " 5.56061354e-39 1.54536333e-39 4.29395008e-40 1.19290006e-40\n",
      " 3.31340039e-41 9.20171078e-42 2.55499458e-42 7.09316398e-43\n",
      " 1.96888533e-43 5.46428047e-44 1.51627978e-44 4.20688956e-45\n",
      " 1.16702412e-45 3.23695751e-46 8.97705844e-47 2.48927215e-47\n",
      " 6.90165630e-48 1.91327849e-48 5.30332473e-49 1.46982162e-49\n",
      " 4.07313302e-50 1.12860311e-50 3.12682571e-51 8.66197568e-52\n",
      " 2.39928698e-52 6.64509638e-53 1.84029301e-53 5.09793123e-54\n",
      " 1.41913340e-54 4.20516415e-55 2.16245066e-55]\n",
      "[1.         0.99428985 0.98858105 0.98287496 0.97717293 0.97147632\n",
      " 0.96578647 0.96010475 0.95443249 0.94877104 0.94312174 0.93748594\n",
      " 0.93186497 0.92626016 0.92067285 0.91510436 0.90955601 0.90402911\n",
      " 0.89852499 0.89304494 0.88759026 0.88216226 0.8767622  0.87139139\n",
      " 0.86605108 0.86074256 0.85546707 0.85022586 0.84502019 0.83985129\n",
      " 0.83472037 0.82962867 0.82457738 0.8195677  0.81460083 0.80967794\n",
      " 0.80480019 0.79996875 0.79518476 0.79044936 0.78576366 0.78112878\n",
      " 0.77654582 0.77201587 0.76753999 0.76311925 0.7587547  0.75444737\n",
      " 0.75019829 0.74600846 0.74187887 0.73781051 0.73380433 0.72986129\n",
      " 0.72598233 0.72216835 0.71842027 0.71473898 0.71112534 0.70758022\n",
      " 0.70410444 0.70069885 0.69736424 0.69410141 0.69091112 0.68779414\n",
      " 0.6847512  0.68178302 0.67889031 0.67607375 0.67333402 0.67067175\n",
      " 0.66808758 0.66558212 0.66315597 0.6608097  0.65854387 0.65635901\n",
      " 0.65425564 0.65223426 0.65029535 0.64843937 0.64666675 0.64497792\n",
      " 0.64337328 0.64185321 0.64041806 0.63906818 0.63780389 0.63662548\n",
      " 0.63553324 0.63452742 0.63360827 0.632776   0.6320308  0.63137286\n",
      " 0.63080233 0.63031935 0.62992402 0.62961645 0.6293967  0.62926483\n",
      " 0.62922087]\n"
     ]
    },
    {
     "data": {
      "image/png": "[encoded data removed]",
      "text/plain": [
       "<Figure size 432x288 with 1 Axes>"
      ]
     },
     "metadata": {
      "needs_background": "light"
     },
     "output_type": "display_data"
    }
   ],
   "source": [
    "a=np.full(Nx-1,-s)\n",
    "a[-1]+=-s\n",
    "b=np.full(Nx,(1+2*s))\n",
    "b[0]=1\n",
    "c=np.full(Nx-1,-s)\n",
    "c[0]=0\n",
    "d=np.zeros(Nx)\n",
    "dn=np.zeros(Nx)\n",
    "dn[0]=1\n",
    "d[0]=1\n",
    "for t in range(len(t_ax)-1):\n",
    "    for i in range(1,len(d)-1):\n",
    "        dn[i]=s*d[i-1]+(1-2*s)*d[i]+s*d[i+1]\n",
    "        dn[-1]=2*s*d[-2]+(1-2*s)*d[-1]\n",
    "    d=dn\n",
    "    d=TDMAsolver(a,b,c,d)\n",
    "    d[0]=1\n",
    "    \n",
    "    if(t==1):\n",
    "        print(d)\n",
    "    #if(t%101==0):\n",
    "        #plt.plot(x_ax[0:Nx],d)\n",
    "    plt.plot(x_ax[0:Nx-1],d[0:Nx-1]-analytic(x_ax[0:Nx-1],t*dt))\n",
    "print(d)"
   ]
  },
  {
   "cell_type": "code",
   "execution_count": null,
   "metadata": {},
   "outputs": [],
   "source": []
  }
 ],
 "metadata": {
  "kernelspec": {
   "display_name": "Python 3",
   "language": "python",
   "name": "python3"
  },
  "language_info": {
   "codemirror_mode": {
    "name": "ipython",
    "version": 3
   },
   "file_extension": ".py",
   "mimetype": "text/x-python",
   "name": "python",
   "nbconvert_exporter": "python",
   "pygments_lexer": "ipython3",
   "version": "3.7.0"
  }
 },
 "nbformat": 4,
 "nbformat_minor": 4
}
